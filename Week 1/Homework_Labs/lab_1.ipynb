{
 "cells": [
  {
   "cell_type": "markdown",
   "id": "cc84dc38-e5b0-4e20-aaf4-4ad8a21a929e",
   "metadata": {},
   "source": [
    "1. Follow the steps above to open a Jupyter Notebook and take a screenshot of the output of\n",
    "the code below:\n",
    "import torch\n",
    "import torchvision\n",
    "x = torch.rand(5, 3)\n",
    "print(x)"
   ]
  },
  {
   "cell_type": "code",
   "execution_count": 1,
   "id": "67fb2ed8-c5a7-4f5d-92ad-71a579d74eb5",
   "metadata": {
    "scrolled": true
   },
   "outputs": [
    {
     "name": "stdout",
     "output_type": "stream",
     "text": [
      "tensor([[0.8171, 0.2945, 0.1625],\n",
      "        [0.7713, 0.7058, 0.7891],\n",
      "        [0.3272, 0.4065, 0.5389],\n",
      "        [0.0325, 0.1127, 0.9091],\n",
      "        [0.4142, 0.4934, 0.1162]])\n"
     ]
    }
   ],
   "source": [
    "import torch\n",
    "import torchvision\n",
    "\n",
    "x = torch.rand(5,3)\n",
    "\n",
    "print(x)"
   ]
  },
  {
   "cell_type": "markdown",
   "id": "420ae72e-4c06-4809-8862-c76ab18f4d81",
   "metadata": {},
   "source": [
    "2. Follow the steps above to open a Jupyter Notebook and take a screenshot of the output of\n",
    "the code below:\n",
    "import torch\n",
    "torch.cuda.is_available()"
   ]
  },
  {
   "cell_type": "code",
   "execution_count": 2,
   "id": "44a50b24-f344-4f17-9714-7157d45f960d",
   "metadata": {},
   "outputs": [
    {
     "data": {
      "text/plain": [
       "True"
      ]
     },
     "execution_count": 2,
     "metadata": {},
     "output_type": "execute_result"
    }
   ],
   "source": [
    "import torch\n",
    "\n",
    "torch.cuda.is_available()"
   ]
  },
  {
   "cell_type": "markdown",
   "id": "02985852-5678-49d0-8cf8-0b773892e1ad",
   "metadata": {},
   "source": [
    "3. What is the main difference between supervised and unsupervised learning? Is the ResNet\n",
    "model in Chapter 2 an example of supervised or unsupervised learning? Why?"
   ]
  },
  {
   "cell_type": "code",
   "execution_count": null,
   "id": "445cdd5e-286e-4af4-bf0e-98696cfbe20a",
   "metadata": {},
   "outputs": [],
   "source": []
  },
  {
   "cell_type": "markdown",
   "id": "3e2f61c7-7ace-40a2-9767-8a2198eac0d9",
   "metadata": {},
   "source": [
    "4. Briefly describe the fields of machine learning and deep learning, as well as the main\n",
    "difference(s) between both fields."
   ]
  },
  {
   "cell_type": "code",
   "execution_count": null,
   "id": "d88e2d95-4fd9-4b58-9316-b748a2e4a47e",
   "metadata": {},
   "outputs": [],
   "source": []
  },
  {
   "cell_type": "markdown",
   "id": "3f75ba55-19cc-4822-a268-39380e0688ed",
   "metadata": {},
   "source": [
    "5. What type of data transformation is performed by a hidden layer in a neural network using\n",
    "RELU activation (f(x)=max(0,x))? What type of data transformation is performed by a hidden\n",
    "layer in a neural network using linear activation (f(x)=x)?\n"
   ]
  },
  {
   "cell_type": "markdown",
   "id": "18d5dad2-ea6f-4960-9536-030a231b5d13",
   "metadata": {},
   "source": [
    "Relu:"
   ]
  },
  {
   "cell_type": "code",
   "execution_count": 5,
   "id": "0b62f41c-c753-465a-ad45-5d1b245ac55a",
   "metadata": {},
   "outputs": [
    {
     "name": "stdout",
     "output_type": "stream",
     "text": [
      "Original: tensor([-3., -1.,  0.,  2.,  5.])\n",
      "ReLU: tensor([0., 0., 0., 2., 5.])\n"
     ]
    }
   ],
   "source": [
    "import torch\n",
    "\n",
    "relu = torch.nn.ReLU()\n",
    "\n",
    "sample = torch.tensor([-3.0, -1.0, 0.0, 2.0, 5.0])\n",
    "print(\"Original:\", sample)\n",
    "print(\"ReLU:\", relu(sample))"
   ]
  },
  {
   "cell_type": "markdown",
   "id": "208f06d7-c2dc-4011-8b5a-b2846cf14d44",
   "metadata": {},
   "source": [
    "linear:"
   ]
  },
  {
   "cell_type": "code",
   "execution_count": 7,
   "id": "82556ed8-1111-40ae-b31c-2719bf58e7f4",
   "metadata": {},
   "outputs": [
    {
     "name": "stdout",
     "output_type": "stream",
     "text": [
      "Original: tensor([-3., -1.,  0.,  2.,  5.])\n",
      "Linear: tensor([-3., -1.,  0.,  2.,  5.])\n"
     ]
    }
   ],
   "source": [
    "sample = torch.tensor([-3.0, -1.0, 0.0, 2.0, 5.0])\n",
    "\n",
    "linear = lambda x: x                      \n",
    "\n",
    "print(\"Original:\", sample)\n",
    "print(\"Linear:\", linear(sample))"
   ]
  }
 ],
 "metadata": {
  "kernelspec": {
   "display_name": "Python 3 (ipykernel)",
   "language": "python",
   "name": "python3"
  },
  "language_info": {
   "codemirror_mode": {
    "name": "ipython",
    "version": 3
   },
   "file_extension": ".py",
   "mimetype": "text/x-python",
   "name": "python",
   "nbconvert_exporter": "python",
   "pygments_lexer": "ipython3",
   "version": "3.12.3"
  }
 },
 "nbformat": 4,
 "nbformat_minor": 5
}
